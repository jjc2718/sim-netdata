{
 "cells": [
  {
   "cell_type": "code",
   "execution_count": 1,
   "metadata": {},
   "outputs": [],
   "source": [
    "import itertools as it\n",
    "\n",
    "import numpy as np\n",
    "import matplotlib.pyplot as plt\n",
    "import seaborn as sns\n",
    "\n",
    "from graph_to_corr import (\n",
    "    graph_to_pcorr,\n",
    "    pcorr_to_prec,\n",
    "    prec_to_cov\n",
    ")\n",
    "# TODO: could compare pseudoinverse against condition number minimization, against cond min + Cholesky + backsolve?"
   ]
  },
  {
   "cell_type": "code",
   "execution_count": 2,
   "metadata": {},
   "outputs": [
    {
     "name": "stdout",
     "output_type": "stream",
     "text": [
      "[[0. 1. 1. 1. 1.]\n",
      " [1. 0. 0. 0. 0.]\n",
      " [1. 0. 0. 0. 0.]\n",
      " [1. 0. 0. 0. 0.]\n",
      " [1. 0. 0. 0. 0.]]\n"
     ]
    }
   ],
   "source": [
    "def simulate_components(p, num_components, tree=False):\n",
    "    adj_matrix = np.zeros((p, p))\n",
    "    network_groups = np.array_split(np.arange(p), num_components)\n",
    "    for group in network_groups:\n",
    "        i = group[0]\n",
    "        if tree:\n",
    "            for j in group[1:]:\n",
    "                adj_matrix[i, j] = 1\n",
    "                adj_matrix[j, i] = 1\n",
    "        else:\n",
    "            for ix in group[:-1]:\n",
    "                adj_matrix[ix, ix+1] = 1\n",
    "                adj_matrix[ix+1, ix] = 1\n",
    "    return adj_matrix\n",
    "\n",
    "def simulate_blocks(p, num_components):\n",
    "    adj_matrix = np.zeros((p, p))\n",
    "    network_groups = np.array_split(np.arange(p), num_components)\n",
    "    for group in network_groups:\n",
    "        for (i, j) in it.combinations(group, 2):\n",
    "            adj_matrix[i, j] = 1\n",
    "            adj_matrix[j, i] = 1\n",
    "    return adj_matrix\n",
    "\n",
    "A = simulate_components(20, 2, tree=True)\n",
    "print(A[:5, :5])"
   ]
  },
  {
   "cell_type": "code",
   "execution_count": 3,
   "metadata": {},
   "outputs": [
    {
     "name": "stdout",
     "output_type": "stream",
     "text": [
      "[[1.         0.78427429 0.89966505 0.70512436 0.90012582]\n",
      " [0.78427429 1.         0.         0.         0.        ]\n",
      " [0.89966505 0.         1.         0.         0.        ]\n",
      " [0.70512436 0.         0.         1.         0.        ]\n",
      " [0.90012582 0.         0.         0.         1.        ]]\n"
     ]
    }
   ],
   "source": [
    "sigma = graph_to_pcorr(A, pos_lims=(0.7, 1), neg_lims=None)\n",
    "print(sigma[:5, :5])"
   ]
  },
  {
   "cell_type": "code",
   "execution_count": 4,
   "metadata": {},
   "outputs": [
    {
     "name": "stdout",
     "output_type": "stream",
     "text": [
      "[[-1.40465393  0.36702792  0.00985517 -0.59216863 -0.64039403]\n",
      " [-0.15617827  0.12536267  0.69380508 -0.17137509  1.43677807]\n",
      " [ 1.41838128 -0.04168227 -0.04064256 -0.47980869 -0.21211387]\n",
      " [-0.62727845 -0.34590538  0.14794859 -0.34948705  0.93773938]\n",
      " [ 1.63793495 -0.9730214   1.96773628  0.58868051  0.42655879]]\n"
     ]
    },
    {
     "name": "stderr",
     "output_type": "stream",
     "text": [
      "/Users/jake/anaconda3/envs/netscape/lib/python3.6/site-packages/ipykernel_launcher.py:8: RuntimeWarning: covariance is not symmetric positive-semidefinite.\n",
      "  \n"
     ]
    }
   ],
   "source": [
    "n = 1000\n",
    "p = A.shape[0]\n",
    "\n",
    "# TODO: how is check_valid handled when ignored?\n",
    "X = np.random.multivariate_normal(mean=np.zeros(p),\n",
    "                                  cov=sigma,\n",
    "                                  size=(n,),\n",
    "                                  check_valid='warn')\n",
    "print(X[:5, :5])"
   ]
  },
  {
   "cell_type": "code",
   "execution_count": 5,
   "metadata": {},
   "outputs": [
    {
     "data": {
      "text/plain": [
       "Text(0.5, 1, 'Correlation matrix estimated from data')"
      ]
     },
     "execution_count": 5,
     "metadata": {},
     "output_type": "execute_result"
    },
    {
     "data": {
      "image/png": "[encoded data removed]",
      "text/plain": [
       "<Figure size 864x288 with 4 Axes>"
      ]
     },
     "metadata": {},
     "output_type": "display_data"
    }
   ],
   "source": [
    "sigma_hat = np.cov(X, rowvar=False)\n",
    "# bound sigma values between 0 and 1 \n",
    "# (high variance/diagonal values might skew plot)\n",
    "sigma_hat[sigma_hat > 1] = 1\n",
    "sigma_hat[sigma_hat < 0] = 0\n",
    "\n",
    "sns.set({'figure.figsize': (12, 4)})\n",
    "fig, axarr = plt.subplots(1, 2)\n",
    "\n",
    "sns.heatmap(sigma, ax=axarr[0])\n",
    "axarr[0].get_xaxis().set_visible(False)\n",
    "axarr[0].get_yaxis().set_visible(False)\n",
    "axarr[0].set_title('Input correlation matrix')\n",
    "sns.heatmap(sigma_hat, ax=axarr[1])\n",
    "axarr[1].get_xaxis().set_visible(False)\n",
    "axarr[1].get_yaxis().set_visible(False)\n",
    "axarr[1].set_title('Correlation matrix estimated from data')"
   ]
  },
  {
   "cell_type": "code",
   "execution_count": 8,
   "metadata": {},
   "outputs": [
    {
     "name": "stdout",
     "output_type": "stream",
     "text": [
      "[[2.74664638 0.72340775 0.99231562 0.9296766  0.90841633]\n",
      " [0.72340775 2.74664638 0.         0.         0.        ]\n",
      " [0.99231562 0.         2.74664638 0.         0.        ]\n",
      " [0.9296766  0.         0.         2.74664638 0.        ]\n",
      " [0.90841633 0.         0.         0.         2.74664638]]\n",
      "49.99847497994236\n"
     ]
    }
   ],
   "source": [
    "pcorrs = graph_to_pcorr(A, pos_lims=(0.7, 1), neg_lims=None)\n",
    "theta = pcorr_to_prec(pcorrs)\n",
    "print(theta[:5, :5])\n",
    "print(np.linalg.cond(theta))"
   ]
  },
  {
   "cell_type": "code",
   "execution_count": 9,
   "metadata": {},
   "outputs": [
    {
     "name": "stdout",
     "output_type": "stream",
     "text": [
      "[[ 4.73472631 -1.24702537 -1.71057436 -1.60259591 -1.56594701]\n",
      " [-1.24702537  0.6925201   0.4505286   0.42208939  0.41243686]\n",
      " [-1.71057436  0.4505286   0.98208116  0.57899006  0.56574945]\n",
      " [-1.60259591  0.42208939  0.57899006  0.9065222   0.53003703]\n",
      " [-1.56594701  0.41243686  0.56574945  0.53003703  0.88199626]]\n"
     ]
    }
   ],
   "source": [
    "sigma = prec_to_cov(theta)\n",
    "print(sigma[:5, :5])"
   ]
  },
  {
   "cell_type": "code",
   "execution_count": 13,
   "metadata": {},
   "outputs": [
    {
     "data": {
      "text/plain": [
       "Text(0.5, 1, 'Partial correlations estimated from data')"
      ]
     },
     "execution_count": 13,
     "metadata": {},
     "output_type": "execute_result"
    },
    {
     "data": {
      "image/png": "[encoded data removed]",
      "text/plain": [
       "<Figure size 864x288 with 4 Axes>"
      ]
     },
     "metadata": {},
     "output_type": "display_data"
    }
   ],
   "source": [
    "n = 1000\n",
    "p = A.shape[0]\n",
    "\n",
    "# TODO: how is check_valid handled when ignored?\n",
    "X = np.random.multivariate_normal(mean=np.zeros(p),\n",
    "                                  cov=sigma,\n",
    "                                  size=(n,),\n",
    "                                  check_valid='warn')\n",
    "sigma_hat = np.cov(X, rowvar=False)\n",
    "theta_hat = np.linalg.inv(sigma_hat)\n",
    "# bound theta values between 0 and 1 \n",
    "# (high variance/diagonal values might skew plot)\n",
    "theta[theta > 1] = 1\n",
    "theta[theta < 0] = 0\n",
    "theta_hat[theta_hat > 1] = 1\n",
    "theta_hat[theta_hat < 0] = 0\n",
    "\n",
    "sns.set({'figure.figsize': (12, 4)})\n",
    "fig, axarr = plt.subplots(1, 2)\n",
    "\n",
    "sns.heatmap(theta, ax=axarr[0])\n",
    "axarr[0].get_xaxis().set_visible(False)\n",
    "axarr[0].get_yaxis().set_visible(False)\n",
    "axarr[0].set_title('Input partial correlation matrix')\n",
    "sns.heatmap(theta_hat, ax=axarr[1])\n",
    "axarr[1].get_xaxis().set_visible(False)\n",
    "axarr[1].get_yaxis().set_visible(False)\n",
    "axarr[1].set_title('Partial correlations estimated from data')"
   ]
  },
  {
   "cell_type": "code",
   "execution_count": null,
   "metadata": {},
   "outputs": [],
   "source": []
  }
 ],
 "metadata": {
  "kernelspec": {
   "display_name": "Python [conda env:netscape]",
   "language": "python",
   "name": "conda-env-netscape-py"
  },
  "language_info": {
   "codemirror_mode": {
    "name": "ipython",
    "version": 3
   },
   "file_extension": ".py",
   "mimetype": "text/x-python",
   "name": "python",
   "nbconvert_exporter": "python",
   "pygments_lexer": "ipython3",
   "version": "3.6.9"
  }
 },
 "nbformat": 4,
 "nbformat_minor": 4
}
