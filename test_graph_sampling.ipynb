{
 "cells": [
  {
   "cell_type": "code",
   "execution_count": 1,
   "metadata": {},
   "outputs": [],
   "source": [
    "import itertools as it\n",
    "\n",
    "import numpy as np\n",
    "import matplotlib.pyplot as plt\n",
    "import seaborn as sns\n",
    "\n",
    "from graph_to_corr import (\n",
    "    graph_to_pcorr,\n",
    "    pcorr_to_prec,\n",
    "    prec_to_cov\n",
    ")\n",
    "# TODO: could compare pseudoinverse against condition number minimization, against cond min + Cholesky + backsolve?"
   ]
  },
  {
   "cell_type": "code",
   "execution_count": 2,
   "metadata": {},
   "outputs": [
    {
     "name": "stdout",
     "output_type": "stream",
     "text": [
      "[[0. 1. 1. 1. 1.]\n",
      " [1. 0. 0. 0. 0.]\n",
      " [1. 0. 0. 0. 0.]\n",
      " [1. 0. 0. 0. 0.]\n",
      " [1. 0. 0. 0. 0.]]\n"
     ]
    }
   ],
   "source": [
    "def simulate_components(p, num_components, tree=False):\n",
    "    adj_matrix = np.zeros((p, p))\n",
    "    network_groups = np.array_split(np.arange(p), num_components)\n",
    "    for group in network_groups:\n",
    "        i = group[0]\n",
    "        if tree:\n",
    "            for j in group[1:]:\n",
    "                adj_matrix[i, j] = 1\n",
    "                adj_matrix[j, i] = 1\n",
    "        else:\n",
    "            for ix in group[:-1]:\n",
    "                adj_matrix[ix, ix+1] = 1\n",
    "                adj_matrix[ix+1, ix] = 1\n",
    "    return adj_matrix\n",
    "\n",
    "def simulate_blocks(p, num_components):\n",
    "    adj_matrix = np.zeros((p, p))\n",
    "    network_groups = np.array_split(np.arange(p), num_components)\n",
    "    for group in network_groups:\n",
    "        for (i, j) in it.combinations(group, 2):\n",
    "            adj_matrix[i, j] = 1\n",
    "            adj_matrix[j, i] = 1\n",
    "    return adj_matrix\n",
    "\n",
    "A = simulate_components(20, 2, tree=True)\n",
    "print(A[:5, :5])"
   ]
  },
  {
   "cell_type": "code",
   "execution_count": 3,
   "metadata": {},
   "outputs": [
    {
     "name": "stdout",
     "output_type": "stream",
     "text": [
      "[[1.         0.93900653 0.87972634 0.74934306 0.84940782]\n",
      " [0.93900653 1.         0.         0.         0.        ]\n",
      " [0.87972634 0.         1.         0.         0.        ]\n",
      " [0.74934306 0.         0.         1.         0.        ]\n",
      " [0.84940782 0.         0.         0.         1.        ]]\n"
     ]
    }
   ],
   "source": [
    "sigma = graph_to_pcorr(A, pos_lims=(0.7, 1), neg_lims=None)\n",
    "print(sigma[:5, :5])"
   ]
  },
  {
   "cell_type": "code",
   "execution_count": 4,
   "metadata": {},
   "outputs": [
    {
     "name": "stdout",
     "output_type": "stream",
     "text": [
      "[[ 0.48215639 -1.21461099 -1.86906553  1.95970811 -0.55606094]\n",
      " [-3.37116147  0.09096145  0.10873429 -0.35102915 -1.74408729]\n",
      " [-1.4636794   1.58810091  0.78522333 -0.87470227 -0.51303235]\n",
      " [-0.63950605 -1.66169746 -1.17491104 -2.37401063 -2.11255912]\n",
      " [ 3.68834592 -0.5579327  -0.80348887 -0.44550983  0.66026461]]\n"
     ]
    },
    {
     "name": "stderr",
     "output_type": "stream",
     "text": [
      "/Users/jake/anaconda3/envs/netscape/lib/python3.6/site-packages/ipykernel_launcher.py:8: RuntimeWarning: covariance is not symmetric positive-semidefinite.\n",
      "  \n"
     ]
    }
   ],
   "source": [
    "n = 1000\n",
    "p = A.shape[0]\n",
    "\n",
    "# TODO: how is check_valid handled when ignored?\n",
    "X = np.random.multivariate_normal(mean=np.zeros(p),\n",
    "                                  cov=sigma,\n",
    "                                  size=(n,),\n",
    "                                  check_valid='warn')\n",
    "print(X[:5, :5])"
   ]
  },
  {
   "cell_type": "code",
   "execution_count": 5,
   "metadata": {},
   "outputs": [
    {
     "data": {
      "text/plain": [
       "Text(0.5, 1, 'Correlation matrix estimated from data')"
      ]
     },
     "execution_count": 5,
     "metadata": {},
     "output_type": "execute_result"
    },
    {
     "data": {
      "image/png": "[encoded data removed]",
      "text/plain": [
       "<Figure size 864x288 with 4 Axes>"
      ]
     },
     "metadata": {},
     "output_type": "display_data"
    }
   ],
   "source": [
    "sigma_hat = np.cov(X, rowvar=False)\n",
    "# bound sigma values between 0 and 1 \n",
    "# (high variance/diagonal values might skew plot)\n",
    "sigma_hat[sigma_hat > 1] = 1\n",
    "sigma_hat[sigma_hat < 0] = 0\n",
    "\n",
    "sns.set({'figure.figsize': (12, 4)})\n",
    "fig, axarr = plt.subplots(1, 2)\n",
    "\n",
    "sns.heatmap(sigma, ax=axarr[0])\n",
    "axarr[0].get_xaxis().set_visible(False)\n",
    "axarr[0].get_yaxis().set_visible(False)\n",
    "axarr[0].set_title('Input correlation matrix')\n",
    "sns.heatmap(sigma_hat, ax=axarr[1])\n",
    "axarr[1].get_xaxis().set_visible(False)\n",
    "axarr[1].get_yaxis().set_visible(False)\n",
    "axarr[1].set_title('Correlation matrix estimated from data')"
   ]
  }
 ],
 "metadata": {
  "kernelspec": {
   "display_name": "Python [conda env:netscape]",
   "language": "python",
   "name": "conda-env-netscape-py"
  },
  "language_info": {
   "codemirror_mode": {
    "name": "ipython",
    "version": 3
   },
   "file_extension": ".py",
   "mimetype": "text/x-python",
   "name": "python",
   "nbconvert_exporter": "python",
   "pygments_lexer": "ipython3",
   "version": "3.6.9"
  }
 },
 "nbformat": 4,
 "nbformat_minor": 4
}
